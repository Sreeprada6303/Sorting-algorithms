{
  "nbformat": 4,
  "nbformat_minor": 0,
  "metadata": {
    "colab": {
      "provenance": []
    },
    "kernelspec": {
      "name": "python3",
      "display_name": "Python 3"
    },
    "language_info": {
      "name": "python"
    }
  },
  "cells": [
    {
      "cell_type": "markdown",
      "source": [
        "Quick sort"
      ],
      "metadata": {
        "id": "u56YObctvVpA"
      }
    },
    {
      "cell_type": "code",
      "execution_count": 10,
      "metadata": {
        "colab": {
          "base_uri": "https://localhost:8080/"
        },
        "id": "Wq-K6kb7vIEA",
        "outputId": "4f7275f5-e599-411b-93ad-d8a0f72ef60f"
      },
      "outputs": [
        {
          "output_type": "stream",
          "name": "stdout",
          "text": [
            "Sorted array: [1, 5, 7, 8, 9, 10]\n"
          ]
        }
      ],
      "source": [
        "\n",
        "def partition(array, low, high):\n",
        "\n",
        "\t# Choose the rightmost element as pivot\n",
        "\tpivot = array[high]\n",
        "\n",
        "\t# Pointer for greater element\n",
        "\ti = low - 1\n",
        "\n",
        "\n",
        "\tfor j in range(low, high):\n",
        "\t\tif array[j] <= pivot:\n",
        "\t\t\t\n",
        "\t\t\ti = i + 1\n",
        "\n",
        "\t\t\t# Swapping element at i with element at j\n",
        "\t\t\t(array[i], array[j]) = (array[j], array[i])\n",
        "\n",
        "\n",
        "\t(array[i + 1], array[high]) = (array[high], array[i + 1])\n",
        "\n",
        "\t# Return the position from where partition is done\n",
        "\treturn i + 1\n",
        "\n",
        "# Function to perform quicksort\n",
        "\n",
        "\n",
        "def quick_sort(array, low, high):\n",
        "\tif low < high:\n",
        "\n",
        "\t\t\n",
        "\t\tpi = partition(array, low, high)\n",
        "\n",
        "\t\t# Recursive call on the left of pivot\n",
        "\t\tquick_sort(array, low, pi - 1)\n",
        "\n",
        "\t\t# Recursive call on the right of pivot\n",
        "\t\tquick_sort(array, pi + 1, high)\n",
        "\n",
        "\n",
        "# Driver code\n",
        "array = [10, 7, 8, 9, 1, 5]\n",
        "quick_sort(array, 0, len(array) - 1)\n",
        "\n",
        "print(f'Sorted array: {array}')\n",
        "\n",
        "\n",
        "\n"
      ]
    }
  ]
}